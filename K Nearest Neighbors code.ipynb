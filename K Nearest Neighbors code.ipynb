{
 "cells": [
  {
   "cell_type": "code",
   "execution_count": 1,
   "id": "45095dc4",
   "metadata": {},
   "outputs": [
    {
     "data": {
      "text/html": [
       "<div>\n",
       "<style scoped>\n",
       "    .dataframe tbody tr th:only-of-type {\n",
       "        vertical-align: middle;\n",
       "    }\n",
       "\n",
       "    .dataframe tbody tr th {\n",
       "        vertical-align: top;\n",
       "    }\n",
       "\n",
       "    .dataframe thead th {\n",
       "        text-align: right;\n",
       "    }\n",
       "</style>\n",
       "<table border=\"1\" class=\"dataframe\">\n",
       "  <thead>\n",
       "    <tr style=\"text-align: right;\">\n",
       "      <th></th>\n",
       "      <th>exam_1</th>\n",
       "      <th>exam_2</th>\n",
       "      <th>admitted</th>\n",
       "    </tr>\n",
       "  </thead>\n",
       "  <tbody>\n",
       "    <tr>\n",
       "      <th>0</th>\n",
       "      <td>34.623660</td>\n",
       "      <td>78.024693</td>\n",
       "      <td>0</td>\n",
       "    </tr>\n",
       "    <tr>\n",
       "      <th>1</th>\n",
       "      <td>30.286711</td>\n",
       "      <td>43.894998</td>\n",
       "      <td>0</td>\n",
       "    </tr>\n",
       "    <tr>\n",
       "      <th>2</th>\n",
       "      <td>35.847409</td>\n",
       "      <td>72.902198</td>\n",
       "      <td>0</td>\n",
       "    </tr>\n",
       "    <tr>\n",
       "      <th>3</th>\n",
       "      <td>60.182599</td>\n",
       "      <td>86.308552</td>\n",
       "      <td>1</td>\n",
       "    </tr>\n",
       "    <tr>\n",
       "      <th>4</th>\n",
       "      <td>79.032736</td>\n",
       "      <td>75.344376</td>\n",
       "      <td>1</td>\n",
       "    </tr>\n",
       "    <tr>\n",
       "      <th>...</th>\n",
       "      <td>...</td>\n",
       "      <td>...</td>\n",
       "      <td>...</td>\n",
       "    </tr>\n",
       "    <tr>\n",
       "      <th>95</th>\n",
       "      <td>83.489163</td>\n",
       "      <td>48.380286</td>\n",
       "      <td>1</td>\n",
       "    </tr>\n",
       "    <tr>\n",
       "      <th>96</th>\n",
       "      <td>42.261701</td>\n",
       "      <td>87.103851</td>\n",
       "      <td>1</td>\n",
       "    </tr>\n",
       "    <tr>\n",
       "      <th>97</th>\n",
       "      <td>99.315009</td>\n",
       "      <td>68.775409</td>\n",
       "      <td>1</td>\n",
       "    </tr>\n",
       "    <tr>\n",
       "      <th>98</th>\n",
       "      <td>55.340018</td>\n",
       "      <td>64.931938</td>\n",
       "      <td>1</td>\n",
       "    </tr>\n",
       "    <tr>\n",
       "      <th>99</th>\n",
       "      <td>74.775893</td>\n",
       "      <td>89.529813</td>\n",
       "      <td>1</td>\n",
       "    </tr>\n",
       "  </tbody>\n",
       "</table>\n",
       "<p>100 rows × 3 columns</p>\n",
       "</div>"
      ],
      "text/plain": [
       "       exam_1     exam_2  admitted\n",
       "0   34.623660  78.024693         0\n",
       "1   30.286711  43.894998         0\n",
       "2   35.847409  72.902198         0\n",
       "3   60.182599  86.308552         1\n",
       "4   79.032736  75.344376         1\n",
       "..        ...        ...       ...\n",
       "95  83.489163  48.380286         1\n",
       "96  42.261701  87.103851         1\n",
       "97  99.315009  68.775409         1\n",
       "98  55.340018  64.931938         1\n",
       "99  74.775893  89.529813         1\n",
       "\n",
       "[100 rows x 3 columns]"
      ]
     },
     "execution_count": 1,
     "metadata": {},
     "output_type": "execute_result"
    }
   ],
   "source": [
    "import warnings\n",
    "warnings.filterwarnings(\"ignore\")\n",
    "import pandas as pd\n",
    "import numpy as np\n",
    "import matplotlib.pyplot as plt\n",
    "%matplotlib inline\n",
    "\n",
    "data =  pd.read_csv('exams.csv')\n",
    "data"
   ]
  },
  {
   "cell_type": "code",
   "execution_count": 2,
   "id": "97f37097",
   "metadata": {},
   "outputs": [
    {
     "data": {
      "text/plain": [
       "<matplotlib.collections.PathCollection at 0x149f62d3280>"
      ]
     },
     "execution_count": 2,
     "metadata": {},
     "output_type": "execute_result"
    },
    {
     "data": {
      "image/png": "[encoded data removed]",
      "text/plain": [
       "<Figure size 432x288 with 1 Axes>"
      ]
     },
     "metadata": {
      "needs_background": "light"
     },
     "output_type": "display_data"
    }
   ],
   "source": [
    "plt.xlabel(\"First exam score\")\n",
    "plt.ylabel(\"Second exam score\")\n",
    "plt.scatter(data[data['admitted']==1]['exam_1'],data[data['admitted']==1]['exam_2'] , color = '#006629')\n",
    "plt.scatter(data[data['admitted']==0]['exam_1'],data[data['admitted']==0]['exam_2'] , color = '#b50404')"
   ]
  },
  {
   "cell_type": "markdown",
   "id": "4e7f1fee",
   "metadata": {},
   "source": [
    "# KNN"
   ]
  },
  {
   "cell_type": "code",
   "execution_count": 3,
   "id": "1bb6fbe1",
   "metadata": {},
   "outputs": [],
   "source": [
    "from sklearn.metrics import confusion_matrix , classification_report\n",
    "from sklearn import metrics\n",
    "from sklearn.model_selection import train_test_split"
   ]
  },
  {
   "cell_type": "code",
   "execution_count": 4,
   "id": "33117ff7",
   "metadata": {},
   "outputs": [],
   "source": [
    "from sklearn.neighbors import KNeighborsClassifier"
   ]
  },
  {
   "cell_type": "code",
   "execution_count": 5,
   "id": "b2290c00",
   "metadata": {},
   "outputs": [],
   "source": [
    "X = data.drop('admitted' , axis = 1)\n",
    "Y = data['admitted']"
   ]
  },
  {
   "cell_type": "code",
   "execution_count": 6,
   "id": "dfc4fce0",
   "metadata": {},
   "outputs": [],
   "source": [
    "x_train,x_test,y_train,y_test=train_test_split(X,Y,\n",
    "                                               test_size=0.30) "
   ]
  },
  {
   "cell_type": "code",
   "execution_count": 7,
   "id": "312fb6b1",
   "metadata": {},
   "outputs": [
    {
     "name": "stdout",
     "output_type": "stream",
     "text": [
      "k  :  13\n"
     ]
    }
   ],
   "source": [
    "error_rate = []\n",
    "for i in range (1,50):\n",
    "    knn = KNeighborsClassifier(n_neighbors = i)\n",
    "    knn.fit(x_train, y_train)\n",
    "    pred = knn.predict(x_test)\n",
    "    error_rate.append(np.mean(pred != y_test))\n",
    "    \n",
    "min_error = error_rate[0]\n",
    "for i in range(1, len(error_rate)):\n",
    "    if (error_rate[i] < min_error) & (i!=1):\n",
    "        min_error = error_rate[i]\n",
    "        k = i + 1\n",
    "print(\"k  : \",k)"
   ]
  },
  {
   "cell_type": "code",
   "execution_count": 8,
   "id": "c31341cf",
   "metadata": {},
   "outputs": [
    {
     "data": {
      "text/plain": [
       "Text(0, 0.5, 'Error Rate')"
      ]
     },
     "execution_count": 8,
     "metadata": {},
     "output_type": "execute_result"
    },
    {
     "data": {
      "image/png": "[encoded data removed]",
      "text/plain": [
       "<Figure size 720x432 with 1 Axes>"
      ]
     },
     "metadata": {
      "needs_background": "light"
     },
     "output_type": "display_data"
    }
   ],
   "source": [
    "plt.figure(figsize = (10,6))\n",
    "plt.plot(range(1,50),error_rate,color='blue',linestyle='dashed',\n",
    "         marker='o',markerfacecolor='red',markersize=10)\n",
    "plt.title('Error rate vs K values')\n",
    "plt.xlabel('K')\n",
    "plt.ylabel('Error Rate')"
   ]
  },
  {
   "cell_type": "code",
   "execution_count": 9,
   "id": "fb74a6eb",
   "metadata": {},
   "outputs": [],
   "source": [
    "knn = KNeighborsClassifier(n_neighbors = k)\n",
    "knn.fit(x_train, y_train)\n",
    "pred_k = knn.predict(x_test)"
   ]
  },
  {
   "cell_type": "code",
   "execution_count": 10,
   "id": "2bb6c497",
   "metadata": {},
   "outputs": [
    {
     "data": {
      "text/plain": [
       "array([[12,  1],\n",
       "       [ 0, 17]], dtype=int64)"
      ]
     },
     "execution_count": 10,
     "metadata": {},
     "output_type": "execute_result"
    }
   ],
   "source": [
    "confusion_matrix = confusion_matrix(y_test,pred_k)\n",
    "confusion_matrix"
   ]
  },
  {
   "cell_type": "code",
   "execution_count": 11,
   "id": "aebb25ef",
   "metadata": {},
   "outputs": [],
   "source": [
    "cm_displayy = metrics.ConfusionMatrixDisplay(confusion_matrix = confusion_matrix, display_labels = [False, True])"
   ]
  },
  {
   "cell_type": "code",
   "execution_count": 12,
   "id": "31cbdbe1",
   "metadata": {},
   "outputs": [
    {
     "data": {
      "image/png": "[encoded data removed]",
      "text/plain": [
       "<Figure size 432x288 with 2 Axes>"
      ]
     },
     "metadata": {
      "needs_background": "light"
     },
     "output_type": "display_data"
    }
   ],
   "source": [
    "cm_displayy.plot()\n",
    "plt.show()"
   ]
  },
  {
   "cell_type": "markdown",
   "id": "7428198c",
   "metadata": {},
   "source": [
    "# Testing"
   ]
  },
  {
   "cell_type": "code",
   "execution_count": 13,
   "id": "1c8fbf98",
   "metadata": {},
   "outputs": [
    {
     "name": "stdout",
     "output_type": "stream",
     "text": [
      "[1]\n"
     ]
    }
   ],
   "source": [
    "new_x = 80\n",
    "new_y = 57\n",
    "new_point = [(new_x, new_y)]\n",
    "prediction = knn.predict(new_point)\n",
    "print(prediction)\n"
   ]
  },
  {
   "cell_type": "code",
   "execution_count": 14,
   "id": "2d070153",
   "metadata": {},
   "outputs": [
    {
     "data": {
      "image/png": "[encoded data removed]",
      "text/plain": [
       "<Figure size 432x288 with 1 Axes>"
      ]
     },
     "metadata": {
      "needs_background": "light"
     },
     "output_type": "display_data"
    }
   ],
   "source": [
    "plt.xlabel(\"First exam score\",weight='bold',fontsize = 12)\n",
    "plt.ylabel(\"Second exam score\",weight='bold',fontsize = 12)\n",
    "plt.scatter(data[data['admitted']==1]['exam_1'],\n",
    "            data[data['admitted']==1]['exam_2'],color='#006629',s=50)\n",
    "plt.scatter(data[data['admitted']==0]['exam_1'],\n",
    "            data[data['admitted']==0]['exam_2'],color='#b50404',s=50)\n",
    "plt.scatter(new_x,new_y,c = prediction[0],marker = '*',s=120)\n",
    "plt.text(x=new_x-10,y=new_y-8,s=f\"new point, class:{prediction[0]}\",\n",
    "         weight='bold',fontsize = 12)\n",
    "plt.show()"
   ]
  },
  {
   "cell_type": "code",
   "execution_count": 15,
   "id": "a737b161",
   "metadata": {},
   "outputs": [
    {
     "name": "stdout",
     "output_type": "stream",
     "text": [
      "\n",
      " Test performance :\n",
      "-----------------------------\n",
      "              precision    recall  f1-score   support\n",
      "\n",
      "           0       1.00      0.92      0.96        13\n",
      "           1       0.94      1.00      0.97        17\n",
      "\n",
      "    accuracy                           0.97        30\n",
      "   macro avg       0.97      0.96      0.97        30\n",
      "weighted avg       0.97      0.97      0.97        30\n",
      "\n"
     ]
    }
   ],
   "source": [
    "print('\\n Test performance :')\n",
    "print('-----------------------------')\n",
    "print(classification_report(y_test, pred_k))"
   ]
  },
  {
   "cell_type": "code",
   "execution_count": 16,
   "id": "754b8eba",
   "metadata": {
    "scrolled": true
   },
   "outputs": [
    {
     "name": "stdout",
     "output_type": "stream",
     "text": [
      "{'Accuracy': 0.9666666666666667, 'Precision': 0.9444444444444444, 'Sensitivity_recall': 1.0, 'Specificity': 0.9230769230769231, 'F1_score': 0.9714285714285714}\n"
     ]
    }
   ],
   "source": [
    "Accuracy = metrics.accuracy_score(y_test, pred_k)\n",
    "Precision = metrics.precision_score(y_test, pred_k)\n",
    "Sensitivity_recall = metrics.recall_score(y_test, pred_k)\n",
    "Specificity = metrics.recall_score(y_test, pred_k, pos_label=0)\n",
    "F1_score = metrics.f1_score(y_test, pred_k)\n",
    "#metrics:\n",
    "print({\"Accuracy\" :Accuracy,\"Precision\":Precision,\"Sensitivity_recall\":Sensitivity_recall,\"Specificity\":Specificity,\"F1_score\":F1_score})\n"
   ]
  },
  {
   "cell_type": "markdown",
   "id": "5b2b6ee1",
   "metadata": {},
   "source": [
    "# "
   ]
  }
 ],
 "metadata": {
  "kernelspec": {
   "display_name": "Python 3 (ipykernel)",
   "language": "python",
   "name": "python3"
  },
  "language_info": {
   "codemirror_mode": {
    "name": "ipython",
    "version": 3
   },
   "file_extension": ".py",
   "mimetype": "text/x-python",
   "name": "python",
   "nbconvert_exporter": "python",
   "pygments_lexer": "ipython3",
   "version": "3.9.12"
  }
 },
 "nbformat": 4,
 "nbformat_minor": 5
}
